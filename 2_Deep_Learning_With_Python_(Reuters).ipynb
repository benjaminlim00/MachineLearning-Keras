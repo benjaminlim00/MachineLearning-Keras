{
  "nbformat": 4,
  "nbformat_minor": 0,
  "metadata": {
    "colab": {
      "name": "2 - Deep Learning With Python (Reuters)",
      "version": "0.3.2",
      "provenance": [],
      "collapsed_sections": []
    },
    "kernelspec": {
      "name": "python3",
      "display_name": "Python 3"
    }
  },
  "cells": [
    {
      "metadata": {
        "id": "GoOFv2ZGH0HX",
        "colab_type": "code",
        "outputId": "54490722-a606-4ed0-e140-60ba3cc9e4ce",
        "colab": {
          "base_uri": "https://localhost:8080/",
          "height": 52
        }
      },
      "cell_type": "code",
      "source": [
        "#Loading the Reuters dataset\n",
        "# This is a Single layer, multiclass classification!\n",
        "\n",
        "from keras.datasets import reuters\n",
        "\n",
        "(train_data, train_labels), (test_data, test_labels) = reuters.load_data(num_words = 10000)\n",
        "\n",
        "print(len(train_data))\n",
        "print(len(test_data))"
      ],
      "execution_count": 0,
      "outputs": [
        {
          "output_type": "stream",
          "text": [
            "8982\n",
            "2246\n"
          ],
          "name": "stdout"
        }
      ]
    },
    {
      "metadata": {
        "id": "RfZkoYjAIFdi",
        "colab_type": "code",
        "outputId": "54832ab0-9392-47aa-9148-3e3a8cf258da",
        "colab": {
          "base_uri": "https://localhost:8080/",
          "height": 562
        }
      },
      "cell_type": "code",
      "source": [
        "# each example is a list of integers (word indices)\n",
        "train_data[10]"
      ],
      "execution_count": 0,
      "outputs": [
        {
          "output_type": "execute_result",
          "data": {
            "text/plain": [
              "[1,\n",
              " 245,\n",
              " 273,\n",
              " 207,\n",
              " 156,\n",
              " 53,\n",
              " 74,\n",
              " 160,\n",
              " 26,\n",
              " 14,\n",
              " 46,\n",
              " 296,\n",
              " 26,\n",
              " 39,\n",
              " 74,\n",
              " 2979,\n",
              " 3554,\n",
              " 14,\n",
              " 46,\n",
              " 4689,\n",
              " 4329,\n",
              " 86,\n",
              " 61,\n",
              " 3499,\n",
              " 4795,\n",
              " 14,\n",
              " 61,\n",
              " 451,\n",
              " 4329,\n",
              " 17,\n",
              " 12]"
            ]
          },
          "metadata": {
            "tags": []
          },
          "execution_count": 11
        }
      ]
    },
    {
      "metadata": {
        "id": "Vqf3eQAEIbuc",
        "colab_type": "code",
        "outputId": "6039e09a-b84f-423c-c386-bb4c294383f1",
        "colab": {
          "base_uri": "https://localhost:8080/",
          "height": 54
        }
      },
      "cell_type": "code",
      "source": [
        "# Decoding newswires back to text\n",
        "\n",
        "word_index = reuters.get_word_index()\n",
        "reverse_word_index = dict([(value, key) for (key, value) in word_index.items()])\n",
        "decoded_newswire = ' '.join([reverse_word_index.get(i-3, '?') for i in train_data[0]])\n",
        "\n",
        "decoded_newswire"
      ],
      "execution_count": 0,
      "outputs": [
        {
          "output_type": "execute_result",
          "data": {
            "text/plain": [
              "'? ? ? said as a result of its december acquisition of space co it expects earnings per share in 1987 of 1 15 to 1 30 dlrs per share up from 70 cts in 1986 the company said pretax net should rise to nine to 10 mln dlrs from six mln dlrs in 1986 and rental operation revenues to 19 to 22 mln dlrs from 12 5 mln dlrs it said cash flow per share this year should be 2 50 to three dlrs reuter 3'"
            ]
          },
          "metadata": {
            "tags": []
          },
          "execution_count": 12
        }
      ]
    },
    {
      "metadata": {
        "id": "jHKD5xwdIkx3",
        "colab_type": "code",
        "colab": {}
      },
      "cell_type": "code",
      "source": [
        "#encoding the data\n",
        "\n",
        "import numpy as np\n",
        "\n",
        "def vectorize_sequences(sequences, dimension=10000):\n",
        "  results = np.zeros((len(sequences), dimension))\n",
        "  for i, sequences in enumerate(sequences):\n",
        "    results[i, sequences] = 1\n",
        "  return results\n",
        "\n",
        "x_train = vectorize_sequences(train_data)\n",
        "x_test = vectorize_sequences(test_data)"
      ],
      "execution_count": 0,
      "outputs": []
    },
    {
      "metadata": {
        "id": "Z61ClEnmMjtD",
        "colab_type": "code",
        "colab": {}
      },
      "cell_type": "code",
      "source": [
        "from keras.utils.np_utils import to_categorical\n",
        "#to_one_hot\n",
        "\n",
        "one_hot_train_labels = to_categorical(train_labels)\n",
        "one_hot_test_labels = to_categorical(test_labels)"
      ],
      "execution_count": 0,
      "outputs": []
    },
    {
      "metadata": {
        "id": "JTSQMl4BNWHL",
        "colab_type": "code",
        "colab": {}
      },
      "cell_type": "code",
      "source": [
        "# model definition\n",
        "\n",
        "from keras import models, layers\n",
        "\n",
        "model = models.Sequential()\n",
        "model.add(layers.Dense(64, activation='relu', input_shape=(10000, )))\n",
        "model.add(layers.Dense(64, activation='relu'))\n",
        "model.add(layers.Dense(46, activation='softmax'))"
      ],
      "execution_count": 0,
      "outputs": []
    },
    {
      "metadata": {
        "id": "qMwLI38CPyDm",
        "colab_type": "code",
        "colab": {}
      },
      "cell_type": "code",
      "source": [
        "#compiling the model\n",
        "model.compile(optimizer='rmsprop',\n",
        "             loss='categorical_crossentropy',\n",
        "             metrics=['accuracy'])"
      ],
      "execution_count": 0,
      "outputs": []
    },
    {
      "metadata": {
        "id": "JcJgAfAZP_mi",
        "colab_type": "code",
        "outputId": "3a127460-0bac-4144-a6d2-ef203b3a5c2a",
        "colab": {
          "base_uri": "https://localhost:8080/",
          "height": 738
        }
      },
      "cell_type": "code",
      "source": [
        "#Setting aside a validation set\n",
        "\n",
        "x_val = x_train[:1000]\n",
        "partial_x_train = x_train[1000:]\n",
        "\n",
        "y_val = one_hot_train_labels[:1000]\n",
        "partial_y_train = one_hot_train_labels[1000:]\n",
        "\n",
        "#training the model\n",
        "\n",
        "history = model.fit(partial_x_train,\n",
        "                   partial_y_train,\n",
        "                   epochs=20,\n",
        "                   batch_size=512,\n",
        "                   validation_data=(x_val, y_val))"
      ],
      "execution_count": 0,
      "outputs": [
        {
          "output_type": "stream",
          "text": [
            "Train on 7982 samples, validate on 1000 samples\n",
            "Epoch 1/20\n",
            "7982/7982 [==============================] - 2s 242us/step - loss: 2.5239 - acc: 0.4971 - val_loss: 1.7180 - val_acc: 0.6130\n",
            "Epoch 2/20\n",
            "7982/7982 [==============================] - 1s 166us/step - loss: 1.4440 - acc: 0.6884 - val_loss: 1.3495 - val_acc: 0.7070\n",
            "Epoch 3/20\n",
            "7982/7982 [==============================] - 1s 168us/step - loss: 1.0979 - acc: 0.7641 - val_loss: 1.1749 - val_acc: 0.7410\n",
            "Epoch 4/20\n",
            "7982/7982 [==============================] - 1s 168us/step - loss: 0.8722 - acc: 0.8161 - val_loss: 1.0802 - val_acc: 0.7580\n",
            "Epoch 5/20\n",
            "7982/7982 [==============================] - 1s 169us/step - loss: 0.7058 - acc: 0.8483 - val_loss: 0.9870 - val_acc: 0.7840\n",
            "Epoch 6/20\n",
            "7982/7982 [==============================] - 1s 168us/step - loss: 0.5687 - acc: 0.8797 - val_loss: 0.9424 - val_acc: 0.8040\n",
            "Epoch 7/20\n",
            "7982/7982 [==============================] - 1s 170us/step - loss: 0.4606 - acc: 0.9037 - val_loss: 0.9085 - val_acc: 0.8020\n",
            "Epoch 8/20\n",
            "7982/7982 [==============================] - 1s 167us/step - loss: 0.3712 - acc: 0.9225 - val_loss: 0.9320 - val_acc: 0.7900\n",
            "Epoch 9/20\n",
            "7982/7982 [==============================] - 1s 169us/step - loss: 0.3040 - acc: 0.9316 - val_loss: 0.8899 - val_acc: 0.8060\n",
            "Epoch 10/20\n",
            "7982/7982 [==============================] - 1s 167us/step - loss: 0.2543 - acc: 0.9416 - val_loss: 0.9049 - val_acc: 0.8150\n",
            "Epoch 11/20\n",
            "7982/7982 [==============================] - 1s 157us/step - loss: 0.2188 - acc: 0.9475 - val_loss: 0.9164 - val_acc: 0.8100\n",
            "Epoch 12/20\n",
            "7982/7982 [==============================] - 1s 156us/step - loss: 0.1874 - acc: 0.9510 - val_loss: 0.9041 - val_acc: 0.8130\n",
            "Epoch 13/20\n",
            "7982/7982 [==============================] - 1s 156us/step - loss: 0.1700 - acc: 0.9524 - val_loss: 0.9315 - val_acc: 0.8100\n",
            "Epoch 14/20\n",
            "7982/7982 [==============================] - 1s 157us/step - loss: 0.1534 - acc: 0.9554 - val_loss: 0.9634 - val_acc: 0.8070\n",
            "Epoch 15/20\n",
            "7982/7982 [==============================] - 1s 155us/step - loss: 0.1386 - acc: 0.9562 - val_loss: 0.9705 - val_acc: 0.8130\n",
            "Epoch 16/20\n",
            "7982/7982 [==============================] - 1s 156us/step - loss: 0.1313 - acc: 0.9557 - val_loss: 1.0233 - val_acc: 0.8040\n",
            "Epoch 17/20\n",
            "7982/7982 [==============================] - 1s 157us/step - loss: 0.1219 - acc: 0.9578 - val_loss: 1.0262 - val_acc: 0.8000\n",
            "Epoch 18/20\n",
            "7982/7982 [==============================] - 1s 158us/step - loss: 0.1197 - acc: 0.9578 - val_loss: 1.0411 - val_acc: 0.8050\n",
            "Epoch 19/20\n",
            "7982/7982 [==============================] - 1s 157us/step - loss: 0.1137 - acc: 0.9594 - val_loss: 1.0948 - val_acc: 0.7960\n",
            "Epoch 20/20\n",
            "7982/7982 [==============================] - 1s 155us/step - loss: 0.1109 - acc: 0.9597 - val_loss: 1.0680 - val_acc: 0.7990\n"
          ],
          "name": "stdout"
        }
      ]
    },
    {
      "metadata": {
        "id": "TuW3sOGIC98W",
        "colab_type": "code",
        "outputId": "5b7381dd-ba85-4009-b945-cd181c20459b",
        "colab": {
          "base_uri": "https://localhost:8080/",
          "height": 376
        }
      },
      "cell_type": "code",
      "source": [
        "#plotting the training and validation loss\n",
        "import matplotlib.pyplot as plt\n",
        "\n",
        "loss = history.history['loss']\n",
        "val_loss = history.history['val_loss']\n",
        "\n",
        "epochs = range(1, len(loss) + 1)\n",
        "\n",
        "plt.plot(epochs, loss, 'bo', label='Training loss')\n",
        "plt.plot(epochs, val_loss, 'b', label='Validation loss')\n",
        "plt.title('Training and validation loss')\n",
        "plt.xlabel('Epochs')\n",
        "plt.ylabel('Loss')\n",
        "plt.legend()\n",
        "\n",
        "plt.show()"
      ],
      "execution_count": 0,
      "outputs": [
        {
          "output_type": "display_data",
          "data": {
            "image/png": "[encoded data removed]",
            "text/plain": [
              "<matplotlib.figure.Figure at 0x7f99ffd8e940>"
            ]
          },
          "metadata": {
            "tags": []
          }
        }
      ]
    },
    {
      "metadata": {
        "id": "P4ns2nfmDiy0",
        "colab_type": "code",
        "outputId": "03fb5561-54f9-47ed-ead7-5dba1b476177",
        "colab": {
          "base_uri": "https://localhost:8080/",
          "height": 376
        }
      },
      "cell_type": "code",
      "source": [
        "#plotting the training and validation accuracy\n",
        "\n",
        "plt.clf()\n",
        "\n",
        "acc = history.history['acc']\n",
        "val_acc = history.history['val_acc']\n",
        "\n",
        "plt.plot(epochs, acc, 'bo', label='Training acc')\n",
        "plt.plot(epochs, val_acc, 'b', label='Validation acc')\n",
        "plt.title('Training and calidation accuracy')\n",
        "plt.xlabel('Epochs')\n",
        "plt.ylabel('Loss')\n",
        "plt.legend()\n",
        "\n",
        "plt.show()"
      ],
      "execution_count": 0,
      "outputs": [
        {
          "output_type": "display_data",
          "data": {
            "image/png": "[encoded data removed]",
            "text/plain": [
              "<matplotlib.figure.Figure at 0x7f99ffd6da58>"
            ]
          },
          "metadata": {
            "tags": []
          }
        }
      ]
    },
    {
      "metadata": {
        "id": "jfPMhKLjEYRR",
        "colab_type": "code",
        "outputId": "434d3bd8-b324-4061-c939-0154370f439f",
        "colab": {
          "base_uri": "https://localhost:8080/",
          "height": 369
        }
      },
      "cell_type": "code",
      "source": [
        "#retraining a model from scratch\n",
        "\n",
        "model = models.Sequential()\n",
        "model.add(layers.Dense(64, activation='relu', input_shape=(10000,)))\n",
        "model.add(layers.Dense(64, activation='relu'))\n",
        "model.add(layers.Dense(46, activation='softmax'))\n",
        "\n",
        "model.compile(optimizer='rmsprop',\n",
        "             loss='categorical_crossentropy',\n",
        "             metrics=['accuracy'])\n",
        "model.fit(partial_x_train,\n",
        "         partial_y_train,\n",
        "         epochs=9,\n",
        "         batch_size=512,\n",
        "         validation_data=(x_val, y_val))\n",
        "results = model.evaluate(x_test, one_hot_test_labels)"
      ],
      "execution_count": 0,
      "outputs": [
        {
          "output_type": "stream",
          "text": [
            "Train on 7982 samples, validate on 1000 samples\n",
            "Epoch 1/9\n",
            "7982/7982 [==============================] - 2s 219us/step - loss: 2.6523 - acc: 0.4559 - val_loss: 1.6716 - val_acc: 0.6220\n",
            "Epoch 2/9\n",
            "7982/7982 [==============================] - 1s 150us/step - loss: 1.4297 - acc: 0.6809 - val_loss: 1.3297 - val_acc: 0.6910\n",
            "Epoch 3/9\n",
            "7982/7982 [==============================] - 1s 157us/step - loss: 1.1036 - acc: 0.7412 - val_loss: 1.1836 - val_acc: 0.7110\n",
            "Epoch 4/9\n",
            "7982/7982 [==============================] - 1s 158us/step - loss: 0.8878 - acc: 0.7925 - val_loss: 1.0723 - val_acc: 0.7680\n",
            "Epoch 5/9\n",
            "7982/7982 [==============================] - 1s 155us/step - loss: 0.7318 - acc: 0.8309 - val_loss: 1.0542 - val_acc: 0.7670\n",
            "Epoch 6/9\n",
            "7982/7982 [==============================] - 1s 154us/step - loss: 0.5813 - acc: 0.8652 - val_loss: 1.0052 - val_acc: 0.7890\n",
            "Epoch 7/9\n",
            "7982/7982 [==============================] - 1s 153us/step - loss: 0.4964 - acc: 0.8834 - val_loss: 1.0037 - val_acc: 0.7920\n",
            "Epoch 8/9\n",
            "7982/7982 [==============================] - 1s 156us/step - loss: 0.3897 - acc: 0.9136 - val_loss: 1.1113 - val_acc: 0.7760\n",
            "Epoch 9/9\n",
            "7982/7982 [==============================] - 1s 158us/step - loss: 0.3215 - acc: 0.9315 - val_loss: 1.1177 - val_acc: 0.7820\n",
            "2246/2246 [==============================] - 0s 109us/step\n"
          ],
          "name": "stdout"
        }
      ]
    },
    {
      "metadata": {
        "id": "s_-Cmr8JGJSN",
        "colab_type": "code",
        "outputId": "d6050a35-7e2a-423b-f1e3-f00699e0ab95",
        "colab": {
          "base_uri": "https://localhost:8080/",
          "height": 34
        }
      },
      "cell_type": "code",
      "source": [
        "results\n",
        "#accuracy of ?"
      ],
      "execution_count": 0,
      "outputs": [
        {
          "output_type": "execute_result",
          "data": {
            "text/plain": [
              "[1.2254912275771213, 0.747551202190209]"
            ]
          },
          "metadata": {
            "tags": []
          },
          "execution_count": 37
        }
      ]
    },
    {
      "metadata": {
        "id": "N28SqYgbGJ5P",
        "colab_type": "code",
        "outputId": "0e7cab39-7c78-478d-df25-28db7c0c1091",
        "colab": {
          "base_uri": "https://localhost:8080/",
          "height": 34
        }
      },
      "cell_type": "code",
      "source": [
        "#generate predictions for new data\n",
        "predictions = model.predict(x_test)\n",
        "\n",
        "#each entry in predictions is a vector of length 46, where the coefficients in this vector\n",
        "#sum to 1\n",
        "\n",
        "# np.sum(predictions[0]) = 1.0\n",
        "\n",
        "#the largest entry is the predicted class - the class with the highest probability\n",
        "np.argmax(predictions[0])"
      ],
      "execution_count": 0,
      "outputs": [
        {
          "output_type": "execute_result",
          "data": {
            "text/plain": [
              "3"
            ]
          },
          "metadata": {
            "tags": []
          },
          "execution_count": 38
        }
      ]
    },
    {
      "metadata": {
        "id": "vkDtz_UwGcXZ",
        "colab_type": "code",
        "colab": {}
      },
      "cell_type": "code",
      "source": [
        ""
      ],
      "execution_count": 0,
      "outputs": []
    }
  ]
}