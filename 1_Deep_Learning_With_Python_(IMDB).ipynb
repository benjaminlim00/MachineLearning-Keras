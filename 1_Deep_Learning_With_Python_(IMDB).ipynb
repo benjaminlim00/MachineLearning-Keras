{
  "nbformat": 4,
  "nbformat_minor": 0,
  "metadata": {
    "colab": {
      "name": "1 - Deep Learning With Python (IMDB)",
      "version": "0.3.2",
      "provenance": [],
      "collapsed_sections": []
    },
    "kernelspec": {
      "name": "python3",
      "display_name": "Python 3"
    }
  },
  "cells": [
    {
      "metadata": {
        "id": "5rZKIbNMO0i9",
        "colab_type": "code",
        "outputId": "af715644-4aa5-4b28-fbd6-afc785bfc137",
        "colab": {
          "base_uri": "https://localhost:8080/",
          "height": 70
        }
      },
      "cell_type": "code",
      "source": [
        "#Loading the IMDB dataset\n",
        "#This is a binary classification!\n",
        "\n",
        "from keras.datasets import imdb\n",
        "(train_data, train_labels), (test_data, test_labels) = imdb.load_data(num_words=10000)\n",
        "#The argument num_words=10000 means you’ll only keep the top 10,000 most frequently occurring\n",
        "#words in the training data. Rare words will be discarded. This allows you to work with vector data of manageable size.\n",
        "\n",
        "#train_labels and test_labels are lists of 0s and 1s, where 0 stands for negative and 1 stands for positive:"
      ],
      "execution_count": 0,
      "outputs": [
        {
          "output_type": "stream",
          "text": [
            "Using TensorFlow backend.\n"
          ],
          "name": "stderr"
        },
        {
          "output_type": "stream",
          "text": [
            "Downloading data from https://s3.amazonaws.com/text-datasets/imdb.npz\n",
            "17465344/17464789 [==============================] - 1s 0us/step\n"
          ],
          "name": "stdout"
        }
      ]
    },
    {
      "metadata": {
        "id": "G3x0IxfnPFdp",
        "colab_type": "code",
        "outputId": "b62cb86b-a2ca-494a-86ca-ec639ba38d3e",
        "colab": {
          "base_uri": "https://localhost:8080/",
          "height": 52
        }
      },
      "cell_type": "code",
      "source": [
        "#to decode one of the reviews back to Eng\n",
        "\n",
        "word_index = imdb.get_word_index()\n",
        "reverse_word_index = dict([(value, key) for (key, value) in word_index.items()])\n",
        "decoded_review = ' '.join([reverse_word_index.get(i-3, '?') for i in train_data[0]])\n",
        "\n",
        "\n",
        "#print(decoded_review)"
      ],
      "execution_count": 0,
      "outputs": [
        {
          "output_type": "stream",
          "text": [
            "Downloading data from https://s3.amazonaws.com/text-datasets/imdb_word_index.json\n",
            "1646592/1641221 [==============================] - 0s 0us/step\n"
          ],
          "name": "stdout"
        }
      ]
    },
    {
      "metadata": {
        "id": "hd-BYYkwPT-u",
        "colab_type": "code",
        "colab": {}
      },
      "cell_type": "code",
      "source": [
        "import numpy as np\n",
        "\n",
        "def vectorize_sequences(sequences, dimension = 10000):\n",
        "  results = np.zeros((len(sequences), dimension))\n",
        "  for i ,sequence in enumerate(sequences):\n",
        "    results[i, sequence] = 1\n",
        "  return results\n",
        "\n",
        "x_train = vectorize_sequences(train_data)\n",
        "x_test = vectorize_sequences(test_data)\n",
        "#print(x_train[0])\n",
        "\n",
        "y_train = np.asarray(train_labels).astype('float32')\n",
        "y_test = np.asarray(test_labels).astype('float32')"
      ],
      "execution_count": 0,
      "outputs": []
    },
    {
      "metadata": {
        "id": "YKzKV61ogXWr",
        "colab_type": "code",
        "outputId": "6761944a-fc3c-4d19-e608-2e779f618e95",
        "colab": {
          "base_uri": "https://localhost:8080/",
          "height": 756
        }
      },
      "cell_type": "code",
      "source": [
        "from keras import models\n",
        "from keras import layers\n",
        "\n",
        "\n",
        "#defining the model\n",
        "model = models.Sequential()\n",
        "model.add(layers.Dense(16, activation='relu', input_shape=(10000,)))\n",
        "model.add(layers.Dense(16, activation='relu'))\n",
        "model.add(layers.Dense(1, activation='sigmoid'))\n",
        "\n",
        "\n",
        "#compiling the model\n",
        "model.compile(optimizer='rmsprop',\n",
        "             loss = 'binary_crossentropy',\n",
        "             metrics = ['accuracy'])\n",
        "\n",
        "#configuring the optimizer\n",
        "from keras import optimizers\n",
        "model.compile(optimizer=optimizers.RMSprop(lr=0.001),\n",
        "             loss='binary_crossentropy',\n",
        "             metrics=['accuracy'])\n",
        "\n",
        "#using custom losses and metrics\n",
        "from keras import losses\n",
        "from keras import metrics\n",
        "\n",
        "model.compile(optimizer=optimizers.RMSprop(lr=0.001),\n",
        "             loss=losses.binary_crossentropy,\n",
        "             metrics=[metrics.binary_accuracy])\n",
        "\n",
        "#we set aside a validation set\n",
        "x_val = x_train[:10000]\n",
        "partial_x_train = x_train[10000:]\n",
        "y_val = y_train[:10000]\n",
        "partial_y_train = y_train[10000:]\n",
        "\n",
        "#training the model\n",
        "model.compile(optimizer='rmsprop',\n",
        "             loss='binary_crossentropy',\n",
        "             metrics=['acc'])\n",
        "\n",
        "history = model.fit(partial_x_train,\n",
        "                   partial_y_train,\n",
        "                   epochs=20,\n",
        "                   batch_size=512,\n",
        "                    validation_data=(x_val, y_val))\n",
        "\n",
        "\n",
        "history_dict=history.history\n",
        "history_dict.keys()"
      ],
      "execution_count": 0,
      "outputs": [
        {
          "output_type": "stream",
          "text": [
            "Train on 15000 samples, validate on 10000 samples\n",
            "Epoch 1/20\n",
            "15000/15000 [==============================] - 3s 181us/step - loss: 0.5049 - acc: 0.7871 - val_loss: 0.3782 - val_acc: 0.8700\n",
            "Epoch 2/20\n",
            "15000/15000 [==============================] - 2s 136us/step - loss: 0.2993 - acc: 0.9045 - val_loss: 0.3002 - val_acc: 0.8892\n",
            "Epoch 3/20\n",
            "15000/15000 [==============================] - 2s 140us/step - loss: 0.2174 - acc: 0.9281 - val_loss: 0.3082 - val_acc: 0.8717\n",
            "Epoch 4/20\n",
            "15000/15000 [==============================] - 2s 139us/step - loss: 0.1747 - acc: 0.9443 - val_loss: 0.2832 - val_acc: 0.8844\n",
            "Epoch 5/20\n",
            "15000/15000 [==============================] - 2s 139us/step - loss: 0.1422 - acc: 0.9541 - val_loss: 0.2857 - val_acc: 0.8857\n",
            "Epoch 6/20\n",
            "15000/15000 [==============================] - 2s 137us/step - loss: 0.1148 - acc: 0.9653 - val_loss: 0.3116 - val_acc: 0.8784\n",
            "Epoch 7/20\n",
            "15000/15000 [==============================] - 2s 140us/step - loss: 0.0977 - acc: 0.9709 - val_loss: 0.3131 - val_acc: 0.8843\n",
            "Epoch 8/20\n",
            "15000/15000 [==============================] - 2s 138us/step - loss: 0.0805 - acc: 0.9765 - val_loss: 0.3862 - val_acc: 0.8659\n",
            "Epoch 9/20\n",
            "15000/15000 [==============================] - 2s 138us/step - loss: 0.0660 - acc: 0.9820 - val_loss: 0.3639 - val_acc: 0.8777\n",
            "Epoch 10/20\n",
            "15000/15000 [==============================] - 2s 137us/step - loss: 0.0559 - acc: 0.9848 - val_loss: 0.3861 - val_acc: 0.8798\n",
            "Epoch 11/20\n",
            "15000/15000 [==============================] - 2s 136us/step - loss: 0.0428 - acc: 0.9901 - val_loss: 0.4150 - val_acc: 0.8781\n",
            "Epoch 12/20\n",
            "15000/15000 [==============================] - 2s 137us/step - loss: 0.0377 - acc: 0.9923 - val_loss: 0.4611 - val_acc: 0.8678\n",
            "Epoch 13/20\n",
            "15000/15000 [==============================] - 2s 139us/step - loss: 0.0299 - acc: 0.9930 - val_loss: 0.4714 - val_acc: 0.8743\n",
            "Epoch 14/20\n",
            "15000/15000 [==============================] - 2s 140us/step - loss: 0.0243 - acc: 0.9949 - val_loss: 0.5038 - val_acc: 0.8726\n",
            "Epoch 15/20\n",
            "15000/15000 [==============================] - 2s 139us/step - loss: 0.0173 - acc: 0.9983 - val_loss: 0.5598 - val_acc: 0.8650\n",
            "Epoch 16/20\n",
            "15000/15000 [==============================] - 2s 139us/step - loss: 0.0183 - acc: 0.9964 - val_loss: 0.5797 - val_acc: 0.8695\n",
            "Epoch 17/20\n",
            "15000/15000 [==============================] - 2s 137us/step - loss: 0.0092 - acc: 0.9995 - val_loss: 0.6091 - val_acc: 0.8666\n",
            "Epoch 18/20\n",
            "15000/15000 [==============================] - 2s 148us/step - loss: 0.0107 - acc: 0.9980 - val_loss: 0.6397 - val_acc: 0.8677\n",
            "Epoch 19/20\n",
            "15000/15000 [==============================] - 2s 137us/step - loss: 0.0114 - acc: 0.9971 - val_loss: 0.6786 - val_acc: 0.8666\n",
            "Epoch 20/20\n",
            "15000/15000 [==============================] - 2s 139us/step - loss: 0.0039 - acc: 0.9999 - val_loss: 0.6925 - val_acc: 0.8656\n"
          ],
          "name": "stdout"
        },
        {
          "output_type": "execute_result",
          "data": {
            "text/plain": [
              "dict_keys(['val_loss', 'val_acc', 'loss', 'acc'])"
            ]
          },
          "metadata": {
            "tags": []
          },
          "execution_count": 5
        }
      ]
    },
    {
      "metadata": {
        "id": "6pjx6PhTzWoX",
        "colab_type": "code",
        "outputId": "cdf215fb-fccd-4ba8-f5e6-de6652ec0fd9",
        "colab": {
          "base_uri": "https://localhost:8080/",
          "height": 376
        }
      },
      "cell_type": "code",
      "source": [
        "#plotting the training and validation loss\n",
        "import matplotlib.pyplot as plt\n",
        "\n",
        "history_dict = history.history\n",
        "loss_values = history_dict['loss']\n",
        "val_loss_values = history_dict['val_loss']\n",
        "\n",
        "acc = history_dict['acc']\n",
        "val_acc = history_dict['val_acc']\n",
        "\n",
        "\n",
        "epochs = range(1, len(acc) + 1)\n",
        "\n",
        "plt.plot(epochs, loss_values, 'bo', label = 'Training loss')\n",
        "plt.plot(epochs, val_loss_values, 'b', label='Validation loss')\n",
        "plt.title('Training and validation loss')\n",
        "plt.xlabel('Epochs')\n",
        "plt.ylabel('Loss')\n",
        "plt.legend()\n",
        "\n",
        "plt.show()"
      ],
      "execution_count": 0,
      "outputs": [
        {
          "output_type": "display_data",
          "data": {
            "image/png": "[encoded data removed]",
            "text/plain": [
              "<matplotlib.figure.Figure at 0x7f99ea1e5208>"
            ]
          },
          "metadata": {
            "tags": []
          }
        }
      ]
    },
    {
      "metadata": {
        "id": "Xiie4P1E2SqL",
        "colab_type": "code",
        "outputId": "c91ab824-5d3d-4c0f-9328-d368eed32a86",
        "colab": {
          "base_uri": "https://localhost:8080/",
          "height": 376
        }
      },
      "cell_type": "code",
      "source": [
        "#plotting the training and validation accuracy\n",
        "\n",
        "plt.clf()\n",
        "acc_values = history_dict['acc']\n",
        "val_acc_values = history_dict['val_acc']\n",
        "\n",
        "plt.plot(epochs, acc, 'bo', label='Training acc')\n",
        "plt.plot(epochs, val_acc, 'b', label = 'Validation acc')\n",
        "plt.title('Training and validation')\n",
        "plt.xlabel('Epochs')\n",
        "plt.ylabel('Loss')\n",
        "plt.legend()\n",
        "plt.show()"
      ],
      "execution_count": 0,
      "outputs": [
        {
          "output_type": "display_data",
          "data": {
            "image/png": "[encoded data removed]",
            "text/plain": [
              "<matplotlib.figure.Figure at 0x7f99ea0f0160>"
            ]
          },
          "metadata": {
            "tags": []
          }
        }
      ]
    },
    {
      "metadata": {
        "id": "SrmcinufB6lx",
        "colab_type": "code",
        "outputId": "265df3c8-8292-4de6-dbb8-798f906917ef",
        "colab": {
          "base_uri": "https://localhost:8080/",
          "height": 175
        }
      },
      "cell_type": "code",
      "source": [
        "# Retraining a model froms scratch\n",
        "\n",
        "model = models.Sequential()\n",
        "model.add(layers.Dense(16, activation='relu', input_shape = (10000, )))\n",
        "model.add(layers.Dense(16, activation='relu'))\n",
        "#model.add(layers.Dense(16, activation='tanh'))\n",
        "model.add(layers.Dense(1, activation='sigmoid'))\n",
        "\n",
        "model.compile(optimizer='rmsprop',\n",
        "             #loss = 'mse',\n",
        "              loss = 'binary_crossentropy',\n",
        "             metrics=['accuracy'])\n",
        "\n",
        "model.fit(x_train, y_train, epochs=4, batch_size=512)\n",
        "results = model.evaluate(x_test, y_test)"
      ],
      "execution_count": 0,
      "outputs": [
        {
          "output_type": "stream",
          "text": [
            "Epoch 1/4\n",
            "25000/25000 [==============================] - 3s 118us/step - loss: 0.4592 - acc: 0.8233\n",
            "Epoch 2/4\n",
            "25000/25000 [==============================] - 2s 100us/step - loss: 0.2589 - acc: 0.9113\n",
            "Epoch 3/4\n",
            "25000/25000 [==============================] - 2s 99us/step - loss: 0.1912 - acc: 0.9320\n",
            "Epoch 4/4\n",
            "25000/25000 [==============================] - 2s 98us/step - loss: 0.1546 - acc: 0.9461\n",
            "25000/25000 [==============================] - 2s 93us/step\n"
          ],
          "name": "stdout"
        }
      ]
    },
    {
      "metadata": {
        "id": "BbFWrxLOCc2B",
        "colab_type": "code",
        "outputId": "c048ad8d-37ac-4625-e5c9-c00dbcf301a2",
        "colab": {
          "base_uri": "https://localhost:8080/",
          "height": 34
        }
      },
      "cell_type": "code",
      "source": [
        "results\n",
        "#we see accuracy of 88%"
      ],
      "execution_count": 0,
      "outputs": [
        {
          "output_type": "execute_result",
          "data": {
            "text/plain": [
              "[0.3320099617481232, 0.87092]"
            ]
          },
          "metadata": {
            "tags": []
          },
          "execution_count": 28
        }
      ]
    },
    {
      "metadata": {
        "id": "NRwwpmXiFnn2",
        "colab_type": "code",
        "outputId": "177fd261-563b-4423-c6ec-bd579b28d282",
        "colab": {
          "base_uri": "https://localhost:8080/",
          "height": 140
        }
      },
      "cell_type": "code",
      "source": [
        "# Use the trained network to generate predictions on new data\n",
        "\n",
        "model.predict(x_test)"
      ],
      "execution_count": 0,
      "outputs": [
        {
          "output_type": "execute_result",
          "data": {
            "text/plain": [
              "array([[0.08365817],\n",
              "       [0.9938356 ],\n",
              "       [0.52417326],\n",
              "       ...,\n",
              "       [0.06025599],\n",
              "       [0.02730622],\n",
              "       [0.59315985]], dtype=float32)"
            ]
          },
          "metadata": {
            "tags": []
          },
          "execution_count": 29
        }
      ]
    },
    {
      "metadata": {
        "id": "08wfKOBoFzzB",
        "colab_type": "code",
        "colab": {}
      },
      "cell_type": "code",
      "source": [
        ""
      ],
      "execution_count": 0,
      "outputs": []
    }
  ]
}