{
  "nbformat": 4,
  "nbformat_minor": 0,
  "metadata": {
    "colab": {
      "name": "7 - IBM MNIST ai",
      "version": "0.3.2",
      "provenance": []
    },
    "kernelspec": {
      "name": "python3",
      "display_name": "Python 3"
    }
  },
  "cells": [
    {
      "metadata": {
        "id": "0IorHPAUPCgi",
        "colab_type": "code",
        "colab": {}
      },
      "cell_type": "code",
      "source": [
        "from keras.datasets import mnist\n",
        "from keras.utils import to_categorical\n",
        "from keras.models import Sequential\n",
        "from keras.layers import Dense, Dropout\n",
        "\n",
        "batch_size = 128\n",
        "num_classes = 10\n",
        "epochs = 20\n",
        "\n",
        "(x_train, y_train), (x_test, y_test) = mnist.load_data()"
      ],
      "execution_count": 0,
      "outputs": []
    },
    {
      "metadata": {
        "id": "5jmokl9FP2cP",
        "colab_type": "code",
        "colab": {}
      },
      "cell_type": "code",
      "source": [
        "#data pre-processing\n",
        "\n",
        "x_train = x_train.reshape(60000, 784)\n",
        "x_test = x_test.reshape(10000, 784)\n",
        "\n",
        "x_train = x_train.astype('float32')\n",
        "x_test = x_test.astype('float32')\n",
        "\n",
        "x_train /= 255\n",
        "x_test /= 255\n",
        "\n",
        "#this is one-hot encoding\n",
        "y_train = to_categorical(y_train, num_classes)\n",
        "y_test = to_categorical(y_test, num_classes)"
      ],
      "execution_count": 0,
      "outputs": []
    },
    {
      "metadata": {
        "id": "o9GyxZtSQUrM",
        "colab_type": "code",
        "outputId": "2d3f8fd7-ef07-42fa-ffd6-ecfc08210ed8",
        "colab": {
          "base_uri": "https://localhost:8080/",
          "height": 316
        }
      },
      "cell_type": "code",
      "source": [
        "#building the model\n",
        "\n",
        "model = Sequential()\n",
        "model.add(Dense(512, activation = 'relu', input_shape=(784,)))\n",
        "model.add(Dropout(0.2))\n",
        "model.add(Dense(512, activation='relu'))\n",
        "model.add(Dropout(0.2))\n",
        "model.add(Dense(num_classes, activation='softmax'))\n",
        "\n",
        "model.summary()\n",
        "\n",
        "model.compile(loss='categorical_crossentropy',\n",
        "             optimizer='sgd',\n",
        "             metrics=['accuracy'])\n"
      ],
      "execution_count": 0,
      "outputs": [
        {
          "output_type": "stream",
          "text": [
            "_________________________________________________________________\n",
            "Layer (type)                 Output Shape              Param #   \n",
            "=================================================================\n",
            "dense_7 (Dense)              (None, 512)               401920    \n",
            "_________________________________________________________________\n",
            "dropout_5 (Dropout)          (None, 512)               0         \n",
            "_________________________________________________________________\n",
            "dense_8 (Dense)              (None, 512)               262656    \n",
            "_________________________________________________________________\n",
            "dropout_6 (Dropout)          (None, 512)               0         \n",
            "_________________________________________________________________\n",
            "dense_9 (Dense)              (None, 10)                5130      \n",
            "=================================================================\n",
            "Total params: 669,706\n",
            "Trainable params: 669,706\n",
            "Non-trainable params: 0\n",
            "_________________________________________________________________\n"
          ],
          "name": "stdout"
        }
      ]
    },
    {
      "metadata": {
        "id": "LpIs84_VREBG",
        "colab_type": "code",
        "outputId": "b49a45e8-d7ea-42dd-db4d-015ea58496ab",
        "colab": {
          "base_uri": "https://localhost:8080/",
          "height": 774
        }
      },
      "cell_type": "code",
      "source": [
        "#fit the model to data\n",
        "\n",
        "model.fit(x_train, y_train, batch_size=batch_size, epochs=epochs, validation_data=(x_test, y_test))\n",
        "\n",
        "score = model.evaluate(x_test, y_test, verbose=0)\n",
        "print(\"Test loss:\", score[0])\n",
        "print(\"Test accuracy:\", score[1])"
      ],
      "execution_count": 0,
      "outputs": [
        {
          "output_type": "stream",
          "text": [
            "Train on 60000 samples, validate on 10000 samples\n",
            "Epoch 1/20\n",
            "60000/60000 [==============================] - 9s 158us/step - loss: 1.1979 - acc: 0.6914 - val_loss: 0.5362 - val_acc: 0.8727\n",
            "Epoch 2/20\n",
            "60000/60000 [==============================] - 9s 150us/step - loss: 0.5338 - acc: 0.8497 - val_loss: 0.3790 - val_acc: 0.8997\n",
            "Epoch 3/20\n",
            "60000/60000 [==============================] - 9s 152us/step - loss: 0.4254 - acc: 0.8759 - val_loss: 0.3247 - val_acc: 0.9107\n",
            "Epoch 4/20\n",
            "60000/60000 [==============================] - 9s 156us/step - loss: 0.3773 - acc: 0.8910 - val_loss: 0.2955 - val_acc: 0.9175\n",
            "Epoch 5/20\n",
            "60000/60000 [==============================] - 9s 154us/step - loss: 0.3461 - acc: 0.8985 - val_loss: 0.2745 - val_acc: 0.9240\n",
            "Epoch 6/20\n",
            "60000/60000 [==============================] - 9s 156us/step - loss: 0.3214 - acc: 0.9071 - val_loss: 0.2554 - val_acc: 0.9274\n",
            "Epoch 7/20\n",
            "60000/60000 [==============================] - 9s 153us/step - loss: 0.3003 - acc: 0.9116 - val_loss: 0.2411 - val_acc: 0.9316\n",
            "Epoch 8/20\n",
            "60000/60000 [==============================] - 9s 149us/step - loss: 0.2845 - acc: 0.9177 - val_loss: 0.2292 - val_acc: 0.9353\n",
            "Epoch 9/20\n",
            "60000/60000 [==============================] - 9s 144us/step - loss: 0.2694 - acc: 0.9221 - val_loss: 0.2184 - val_acc: 0.9374\n",
            "Epoch 10/20\n",
            "60000/60000 [==============================] - 9s 145us/step - loss: 0.2563 - acc: 0.9258 - val_loss: 0.2090 - val_acc: 0.9401\n",
            "Epoch 11/20\n",
            "60000/60000 [==============================] - 9s 149us/step - loss: 0.2451 - acc: 0.9288 - val_loss: 0.1999 - val_acc: 0.9422\n",
            "Epoch 12/20\n",
            "60000/60000 [==============================] - 9s 151us/step - loss: 0.2340 - acc: 0.9319 - val_loss: 0.1912 - val_acc: 0.9442\n",
            "Epoch 13/20\n",
            "60000/60000 [==============================] - 9s 152us/step - loss: 0.2262 - acc: 0.9343 - val_loss: 0.1843 - val_acc: 0.9464\n",
            "Epoch 14/20\n",
            "60000/60000 [==============================] - 9s 152us/step - loss: 0.2166 - acc: 0.9377 - val_loss: 0.1775 - val_acc: 0.9468\n",
            "Epoch 15/20\n",
            "60000/60000 [==============================] - 9s 152us/step - loss: 0.2084 - acc: 0.9387 - val_loss: 0.1722 - val_acc: 0.9489\n",
            "Epoch 16/20\n",
            "60000/60000 [==============================] - 9s 153us/step - loss: 0.2013 - acc: 0.9413 - val_loss: 0.1653 - val_acc: 0.9501\n",
            "Epoch 17/20\n",
            "60000/60000 [==============================] - 9s 152us/step - loss: 0.1935 - acc: 0.9439 - val_loss: 0.1597 - val_acc: 0.9533\n",
            "Epoch 18/20\n",
            "60000/60000 [==============================] - 9s 150us/step - loss: 0.1891 - acc: 0.9448 - val_loss: 0.1548 - val_acc: 0.9538\n",
            "Epoch 19/20\n",
            "60000/60000 [==============================] - 9s 151us/step - loss: 0.1811 - acc: 0.9472 - val_loss: 0.1511 - val_acc: 0.9545\n",
            "Epoch 20/20\n",
            "60000/60000 [==============================] - 9s 152us/step - loss: 0.1761 - acc: 0.9482 - val_loss: 0.1469 - val_acc: 0.9552\n",
            "Test loss: 0.14690612423978747\n",
            "Test accuracy: 0.9552\n"
          ],
          "name": "stdout"
        }
      ]
    },
    {
      "metadata": {
        "id": "SwRFbvtLRe5-",
        "colab_type": "code",
        "colab": {}
      },
      "cell_type": "code",
      "source": [
        ""
      ],
      "execution_count": 0,
      "outputs": []
    }
  ]
}